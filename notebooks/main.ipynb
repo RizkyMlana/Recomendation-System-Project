{
 "cells": [
  {
   "cell_type": "markdown",
   "id": "1170067b",
   "metadata": {},
   "source": [
    "# **Recommendation System**"
   ]
  },
  {
   "cell_type": "markdown",
   "id": "c514664d",
   "metadata": {},
   "source": [
    "## Business Understanding"
   ]
  },
  {
   "cell_type": "markdown",
   "id": "9e0da6c4",
   "metadata": {},
   "source": [
    "### Problem Statements"
   ]
  },
  {
   "cell_type": "markdown",
   "id": "06c0fea9",
   "metadata": {},
   "source": [
    "### Goals"
   ]
  },
  {
   "cell_type": "markdown",
   "id": "bb5affee",
   "metadata": {},
   "source": [
    "### Solution Statements"
   ]
  },
  {
   "cell_type": "markdown",
   "id": "d750f35f",
   "metadata": {},
   "source": [
    "## Data Understanding"
   ]
  },
  {
   "cell_type": "code",
   "execution_count": null,
   "id": "05677d9a",
   "metadata": {},
   "outputs": [],
   "source": [
    "import seaborn as sns\n",
    "import matplotlib.pyplot as plt\n",
    "import pandas as pd\n",
    "from sklearn.preprocessing import StandardScaler"
   ]
  },
  {
   "cell_type": "code",
   "execution_count": 14,
   "id": "9d900680",
   "metadata": {},
   "outputs": [],
   "source": [
    "df = pd.read_csv('../data/steam.csv')"
   ]
  },
  {
   "cell_type": "markdown",
   "id": "366924d7",
   "metadata": {},
   "source": [
    "## Exploration Data Analysis"
   ]
  },
  {
   "cell_type": "code",
   "execution_count": 15,
   "id": "913360fc",
   "metadata": {},
   "outputs": [
    {
     "data": {
      "application/vnd.microsoft.datawrangler.viewer.v0+json": {
       "columns": [
        {
         "name": "index",
         "rawType": "int64",
         "type": "integer"
        },
        {
         "name": "appid",
         "rawType": "int64",
         "type": "integer"
        },
        {
         "name": "name",
         "rawType": "object",
         "type": "string"
        },
        {
         "name": "release_date",
         "rawType": "object",
         "type": "string"
        },
        {
         "name": "english",
         "rawType": "int64",
         "type": "integer"
        },
        {
         "name": "developer",
         "rawType": "object",
         "type": "string"
        },
        {
         "name": "publisher",
         "rawType": "object",
         "type": "string"
        },
        {
         "name": "platforms",
         "rawType": "object",
         "type": "string"
        },
        {
         "name": "required_age",
         "rawType": "int64",
         "type": "integer"
        },
        {
         "name": "categories",
         "rawType": "object",
         "type": "string"
        },
        {
         "name": "genres",
         "rawType": "object",
         "type": "string"
        },
        {
         "name": "steamspy_tags",
         "rawType": "object",
         "type": "string"
        },
        {
         "name": "achievements",
         "rawType": "int64",
         "type": "integer"
        },
        {
         "name": "positive_ratings",
         "rawType": "int64",
         "type": "integer"
        },
        {
         "name": "negative_ratings",
         "rawType": "int64",
         "type": "integer"
        },
        {
         "name": "average_playtime",
         "rawType": "int64",
         "type": "integer"
        },
        {
         "name": "median_playtime",
         "rawType": "int64",
         "type": "integer"
        },
        {
         "name": "owners",
         "rawType": "object",
         "type": "string"
        },
        {
         "name": "price",
         "rawType": "float64",
         "type": "float"
        }
       ],
       "ref": "7676f9cf-0054-4628-8bc7-fae6b7c13bc1",
       "rows": [
        [
         "0",
         "10",
         "Counter-Strike",
         "2000-11-01",
         "1",
         "Valve",
         "Valve",
         "windows;mac;linux",
         "0",
         "Multi-player;Online Multi-Player;Local Multi-Player;Valve Anti-Cheat enabled",
         "Action",
         "Action;FPS;Multiplayer",
         "0",
         "124534",
         "3339",
         "17612",
         "317",
         "10000000-20000000",
         "7.19"
        ],
        [
         "1",
         "20",
         "Team Fortress Classic",
         "1999-04-01",
         "1",
         "Valve",
         "Valve",
         "windows;mac;linux",
         "0",
         "Multi-player;Online Multi-Player;Local Multi-Player;Valve Anti-Cheat enabled",
         "Action",
         "Action;FPS;Multiplayer",
         "0",
         "3318",
         "633",
         "277",
         "62",
         "5000000-10000000",
         "3.99"
        ],
        [
         "2",
         "30",
         "Day of Defeat",
         "2003-05-01",
         "1",
         "Valve",
         "Valve",
         "windows;mac;linux",
         "0",
         "Multi-player;Valve Anti-Cheat enabled",
         "Action",
         "FPS;World War II;Multiplayer",
         "0",
         "3416",
         "398",
         "187",
         "34",
         "5000000-10000000",
         "3.99"
        ],
        [
         "3",
         "40",
         "Deathmatch Classic",
         "2001-06-01",
         "1",
         "Valve",
         "Valve",
         "windows;mac;linux",
         "0",
         "Multi-player;Online Multi-Player;Local Multi-Player;Valve Anti-Cheat enabled",
         "Action",
         "Action;FPS;Multiplayer",
         "0",
         "1273",
         "267",
         "258",
         "184",
         "5000000-10000000",
         "3.99"
        ],
        [
         "4",
         "50",
         "Half-Life: Opposing Force",
         "1999-11-01",
         "1",
         "Gearbox Software",
         "Valve",
         "windows;mac;linux",
         "0",
         "Single-player;Multi-player;Valve Anti-Cheat enabled",
         "Action",
         "FPS;Action;Sci-fi",
         "0",
         "5250",
         "288",
         "624",
         "415",
         "5000000-10000000",
         "3.99"
        ]
       ],
       "shape": {
        "columns": 18,
        "rows": 5
       }
      },
      "text/html": [
       "<div>\n",
       "<style scoped>\n",
       "    .dataframe tbody tr th:only-of-type {\n",
       "        vertical-align: middle;\n",
       "    }\n",
       "\n",
       "    .dataframe tbody tr th {\n",
       "        vertical-align: top;\n",
       "    }\n",
       "\n",
       "    .dataframe thead th {\n",
       "        text-align: right;\n",
       "    }\n",
       "</style>\n",
       "<table border=\"1\" class=\"dataframe\">\n",
       "  <thead>\n",
       "    <tr style=\"text-align: right;\">\n",
       "      <th></th>\n",
       "      <th>appid</th>\n",
       "      <th>name</th>\n",
       "      <th>release_date</th>\n",
       "      <th>english</th>\n",
       "      <th>developer</th>\n",
       "      <th>publisher</th>\n",
       "      <th>platforms</th>\n",
       "      <th>required_age</th>\n",
       "      <th>categories</th>\n",
       "      <th>genres</th>\n",
       "      <th>steamspy_tags</th>\n",
       "      <th>achievements</th>\n",
       "      <th>positive_ratings</th>\n",
       "      <th>negative_ratings</th>\n",
       "      <th>average_playtime</th>\n",
       "      <th>median_playtime</th>\n",
       "      <th>owners</th>\n",
       "      <th>price</th>\n",
       "    </tr>\n",
       "  </thead>\n",
       "  <tbody>\n",
       "    <tr>\n",
       "      <th>0</th>\n",
       "      <td>10</td>\n",
       "      <td>Counter-Strike</td>\n",
       "      <td>2000-11-01</td>\n",
       "      <td>1</td>\n",
       "      <td>Valve</td>\n",
       "      <td>Valve</td>\n",
       "      <td>windows;mac;linux</td>\n",
       "      <td>0</td>\n",
       "      <td>Multi-player;Online Multi-Player;Local Multi-P...</td>\n",
       "      <td>Action</td>\n",
       "      <td>Action;FPS;Multiplayer</td>\n",
       "      <td>0</td>\n",
       "      <td>124534</td>\n",
       "      <td>3339</td>\n",
       "      <td>17612</td>\n",
       "      <td>317</td>\n",
       "      <td>10000000-20000000</td>\n",
       "      <td>7.19</td>\n",
       "    </tr>\n",
       "    <tr>\n",
       "      <th>1</th>\n",
       "      <td>20</td>\n",
       "      <td>Team Fortress Classic</td>\n",
       "      <td>1999-04-01</td>\n",
       "      <td>1</td>\n",
       "      <td>Valve</td>\n",
       "      <td>Valve</td>\n",
       "      <td>windows;mac;linux</td>\n",
       "      <td>0</td>\n",
       "      <td>Multi-player;Online Multi-Player;Local Multi-P...</td>\n",
       "      <td>Action</td>\n",
       "      <td>Action;FPS;Multiplayer</td>\n",
       "      <td>0</td>\n",
       "      <td>3318</td>\n",
       "      <td>633</td>\n",
       "      <td>277</td>\n",
       "      <td>62</td>\n",
       "      <td>5000000-10000000</td>\n",
       "      <td>3.99</td>\n",
       "    </tr>\n",
       "    <tr>\n",
       "      <th>2</th>\n",
       "      <td>30</td>\n",
       "      <td>Day of Defeat</td>\n",
       "      <td>2003-05-01</td>\n",
       "      <td>1</td>\n",
       "      <td>Valve</td>\n",
       "      <td>Valve</td>\n",
       "      <td>windows;mac;linux</td>\n",
       "      <td>0</td>\n",
       "      <td>Multi-player;Valve Anti-Cheat enabled</td>\n",
       "      <td>Action</td>\n",
       "      <td>FPS;World War II;Multiplayer</td>\n",
       "      <td>0</td>\n",
       "      <td>3416</td>\n",
       "      <td>398</td>\n",
       "      <td>187</td>\n",
       "      <td>34</td>\n",
       "      <td>5000000-10000000</td>\n",
       "      <td>3.99</td>\n",
       "    </tr>\n",
       "    <tr>\n",
       "      <th>3</th>\n",
       "      <td>40</td>\n",
       "      <td>Deathmatch Classic</td>\n",
       "      <td>2001-06-01</td>\n",
       "      <td>1</td>\n",
       "      <td>Valve</td>\n",
       "      <td>Valve</td>\n",
       "      <td>windows;mac;linux</td>\n",
       "      <td>0</td>\n",
       "      <td>Multi-player;Online Multi-Player;Local Multi-P...</td>\n",
       "      <td>Action</td>\n",
       "      <td>Action;FPS;Multiplayer</td>\n",
       "      <td>0</td>\n",
       "      <td>1273</td>\n",
       "      <td>267</td>\n",
       "      <td>258</td>\n",
       "      <td>184</td>\n",
       "      <td>5000000-10000000</td>\n",
       "      <td>3.99</td>\n",
       "    </tr>\n",
       "    <tr>\n",
       "      <th>4</th>\n",
       "      <td>50</td>\n",
       "      <td>Half-Life: Opposing Force</td>\n",
       "      <td>1999-11-01</td>\n",
       "      <td>1</td>\n",
       "      <td>Gearbox Software</td>\n",
       "      <td>Valve</td>\n",
       "      <td>windows;mac;linux</td>\n",
       "      <td>0</td>\n",
       "      <td>Single-player;Multi-player;Valve Anti-Cheat en...</td>\n",
       "      <td>Action</td>\n",
       "      <td>FPS;Action;Sci-fi</td>\n",
       "      <td>0</td>\n",
       "      <td>5250</td>\n",
       "      <td>288</td>\n",
       "      <td>624</td>\n",
       "      <td>415</td>\n",
       "      <td>5000000-10000000</td>\n",
       "      <td>3.99</td>\n",
       "    </tr>\n",
       "  </tbody>\n",
       "</table>\n",
       "</div>"
      ],
      "text/plain": [
       "   appid                       name release_date  english         developer  \\\n",
       "0     10             Counter-Strike   2000-11-01        1             Valve   \n",
       "1     20      Team Fortress Classic   1999-04-01        1             Valve   \n",
       "2     30              Day of Defeat   2003-05-01        1             Valve   \n",
       "3     40         Deathmatch Classic   2001-06-01        1             Valve   \n",
       "4     50  Half-Life: Opposing Force   1999-11-01        1  Gearbox Software   \n",
       "\n",
       "  publisher          platforms  required_age  \\\n",
       "0     Valve  windows;mac;linux             0   \n",
       "1     Valve  windows;mac;linux             0   \n",
       "2     Valve  windows;mac;linux             0   \n",
       "3     Valve  windows;mac;linux             0   \n",
       "4     Valve  windows;mac;linux             0   \n",
       "\n",
       "                                          categories  genres  \\\n",
       "0  Multi-player;Online Multi-Player;Local Multi-P...  Action   \n",
       "1  Multi-player;Online Multi-Player;Local Multi-P...  Action   \n",
       "2              Multi-player;Valve Anti-Cheat enabled  Action   \n",
       "3  Multi-player;Online Multi-Player;Local Multi-P...  Action   \n",
       "4  Single-player;Multi-player;Valve Anti-Cheat en...  Action   \n",
       "\n",
       "                  steamspy_tags  achievements  positive_ratings  \\\n",
       "0        Action;FPS;Multiplayer             0            124534   \n",
       "1        Action;FPS;Multiplayer             0              3318   \n",
       "2  FPS;World War II;Multiplayer             0              3416   \n",
       "3        Action;FPS;Multiplayer             0              1273   \n",
       "4             FPS;Action;Sci-fi             0              5250   \n",
       "\n",
       "   negative_ratings  average_playtime  median_playtime             owners  \\\n",
       "0              3339             17612              317  10000000-20000000   \n",
       "1               633               277               62   5000000-10000000   \n",
       "2               398               187               34   5000000-10000000   \n",
       "3               267               258              184   5000000-10000000   \n",
       "4               288               624              415   5000000-10000000   \n",
       "\n",
       "   price  \n",
       "0   7.19  \n",
       "1   3.99  \n",
       "2   3.99  \n",
       "3   3.99  \n",
       "4   3.99  "
      ]
     },
     "execution_count": 15,
     "metadata": {},
     "output_type": "execute_result"
    }
   ],
   "source": [
    "\n",
    "df.head()"
   ]
  },
  {
   "cell_type": "code",
   "execution_count": 3,
   "id": "1bfd002b",
   "metadata": {},
   "outputs": [
    {
     "data": {
      "application/vnd.microsoft.datawrangler.viewer.v0+json": {
       "columns": [
        {
         "name": "index",
         "rawType": "object",
         "type": "string"
        },
        {
         "name": "0",
         "rawType": "int64",
         "type": "integer"
        }
       ],
       "ref": "2abcc712-8752-4f8d-9601-863f3f5c7a43",
       "rows": [
        [
         "appid",
         "0"
        ],
        [
         "name",
         "0"
        ],
        [
         "release_date",
         "0"
        ],
        [
         "english",
         "0"
        ],
        [
         "developer",
         "1"
        ],
        [
         "publisher",
         "14"
        ],
        [
         "platforms",
         "0"
        ],
        [
         "required_age",
         "0"
        ],
        [
         "categories",
         "0"
        ],
        [
         "genres",
         "0"
        ],
        [
         "steamspy_tags",
         "0"
        ],
        [
         "achievements",
         "0"
        ],
        [
         "positive_ratings",
         "0"
        ],
        [
         "negative_ratings",
         "0"
        ],
        [
         "average_playtime",
         "0"
        ],
        [
         "median_playtime",
         "0"
        ],
        [
         "owners",
         "0"
        ],
        [
         "price",
         "0"
        ]
       ],
       "shape": {
        "columns": 1,
        "rows": 18
       }
      },
      "text/plain": [
       "appid                0\n",
       "name                 0\n",
       "release_date         0\n",
       "english              0\n",
       "developer            1\n",
       "publisher           14\n",
       "platforms            0\n",
       "required_age         0\n",
       "categories           0\n",
       "genres               0\n",
       "steamspy_tags        0\n",
       "achievements         0\n",
       "positive_ratings     0\n",
       "negative_ratings     0\n",
       "average_playtime     0\n",
       "median_playtime      0\n",
       "owners               0\n",
       "price                0\n",
       "dtype: int64"
      ]
     },
     "execution_count": 3,
     "metadata": {},
     "output_type": "execute_result"
    }
   ],
   "source": [
    "df.isna().sum()"
   ]
  },
  {
   "cell_type": "code",
   "execution_count": 4,
   "id": "8d846aa2",
   "metadata": {},
   "outputs": [
    {
     "data": {
      "text/plain": [
       "np.int64(0)"
      ]
     },
     "execution_count": 4,
     "metadata": {},
     "output_type": "execute_result"
    }
   ],
   "source": [
    "df.duplicated().sum()"
   ]
  },
  {
   "cell_type": "code",
   "execution_count": null,
   "id": "d051d694",
   "metadata": {},
   "outputs": [],
   "source": [
    "numeric = df.select_dtypes(include=\"number\").columns\n",
    "def check_outlier(data):\n",
    "    Q1 = df[data].quantile(0.25)\n",
    "    Q3 = df[data].quantile(0.75)\n",
    "    IQR = Q3 - Q1\n",
    "    lower = Q1 - 1.5 * IQR\n",
    "    upper = Q3 + 1.5 * IQR\n",
    "    outlier = df[(df[data] < lower) | (df[data]>upper)]\n",
    "    print(f\"Kolom {data} : {len(outlier)} Outlier\")\n"
   ]
  },
  {
   "cell_type": "markdown",
   "id": "0cf60571",
   "metadata": {},
   "source": [
    "## Data Preparation"
   ]
  },
  {
   "cell_type": "code",
   "execution_count": 7,
   "id": "58636469",
   "metadata": {},
   "outputs": [
    {
     "name": "stdout",
     "output_type": "stream",
     "text": [
      "Kolom appid : 0 Outlier\n",
      "Kolom english : 511 Outlier\n",
      "Kolom required_age : 596 Outlier\n",
      "Kolom achievements : 1695 Outlier\n",
      "Kolom positive_ratings : 4286 Outlier\n",
      "Kolom negative_ratings : 3957 Outlier\n",
      "Kolom average_playtime : 6170 Outlier\n",
      "Kolom median_playtime : 6170 Outlier\n",
      "Kolom price : 1975 Outlier\n"
     ]
    }
   ],
   "source": [
    "for i in numeric:\n",
    "    check_outlier(i)\n",
    "    "
   ]
  },
  {
   "cell_type": "code",
   "execution_count": null,
   "id": "be0ec904",
   "metadata": {},
   "outputs": [],
   "source": [
    "def outlier_handling(data):\n",
    "    Q1 = df[data].quantile(0.25)\n",
    "    Q3 = df[data].quantile(0.75)\n",
    "    IQR = Q3 - Q1\n",
    "    lower = Q1 - 1.5 * IQR\n",
    "    upper = Q3 + 1.5 * IQR\n",
    "    df.loc[df[data] > upper, data] = upper\n",
    "    df.loc[df[data] < lower, data] = lower"
   ]
  },
  {
   "cell_type": "code",
   "execution_count": 12,
   "id": "3d0e9f0d",
   "metadata": {},
   "outputs": [
    {
     "name": "stdout",
     "output_type": "stream",
     "text": [
      "Kolom appid : 0 Outlier\n",
      "Kolom english : 0 Outlier\n",
      "Kolom required_age : 0 Outlier\n",
      "Kolom achievements : 0 Outlier\n",
      "Kolom positive_ratings : 0 Outlier\n",
      "Kolom negative_ratings : 0 Outlier\n",
      "Kolom average_playtime : 0 Outlier\n",
      "Kolom median_playtime : 0 Outlier\n",
      "Kolom price : 0 Outlier\n"
     ]
    }
   ],
   "source": [
    "for i in numeric:\n",
    "    outlier_handling(i)\n",
    "    check_outlier(i)"
   ]
  },
  {
   "cell_type": "code",
   "execution_count": null,
   "id": "ca8018b0",
   "metadata": {},
   "outputs": [],
   "source": []
  },
  {
   "cell_type": "markdown",
   "id": "526cc4ea",
   "metadata": {},
   "source": [
    "## Modelling"
   ]
  },
  {
   "cell_type": "markdown",
   "id": "fba08238",
   "metadata": {},
   "source": [
    "## Evaluation"
   ]
  }
 ],
 "metadata": {
  "kernelspec": {
   "display_name": ".venv",
   "language": "python",
   "name": "python3"
  },
  "language_info": {
   "codemirror_mode": {
    "name": "ipython",
    "version": 3
   },
   "file_extension": ".py",
   "mimetype": "text/x-python",
   "name": "python",
   "nbconvert_exporter": "python",
   "pygments_lexer": "ipython3",
   "version": "3.10.0"
  }
 },
 "nbformat": 4,
 "nbformat_minor": 5
}
